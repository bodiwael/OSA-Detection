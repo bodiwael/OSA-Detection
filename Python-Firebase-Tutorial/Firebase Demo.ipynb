{
 "cells": [
  {
   "cell_type": "code",
   "execution_count": 1,
   "id": "5d6bd1f5",
   "metadata": {},
   "outputs": [],
   "source": [
    "# import required modules\n",
    "import firebase_admin\n",
    "from firebase_admin import db, credentials"
   ]
  },
  {
   "cell_type": "code",
   "execution_count": 2,
   "id": "cda78e26",
   "metadata": {},
   "outputs": [
    {
     "data": {
      "text/plain": [
       "<firebase_admin.App at 0x7f2c6659c290>"
      ]
     },
     "execution_count": 2,
     "metadata": {},
     "output_type": "execute_result"
    }
   ],
   "source": [
    "# authenticate to firebase\n",
    "cred = credentials.Certificate(\"credentials.json\")\n",
    "firebase_admin.initialize_app(cred, {\"databaseURL\": \"https://osa-detection-default-rtdb.firebaseio.com/\"})"
   ]
  },
  {
   "cell_type": "code",
   "execution_count": 3,
   "id": "4a3f1534",
   "metadata": {},
   "outputs": [],
   "source": [
    "# creating reference to root node\n",
    "Age = db.reference(\"Data/Age\")\n",
    "\n",
    "Weight = db.reference(\"Data/Weight\")\n",
    "\n",
    "Height = db.reference(\"Data/Height\")\n",
    "\n",
    "Gender = db.reference(\"Data/Gender\")\n",
    "\n",
    "SPO2 = db.reference(\"Data/SPO2\")\n",
    "\n",
    "HR = db.reference(\"Data/HR\")"
   ]
  },
  {
   "cell_type": "code",
   "execution_count": 4,
   "id": "291cac1b",
   "metadata": {},
   "outputs": [],
   "source": [
    "# retrieving data from root node\n",
    "age = Age.get()\n",
    "weight = Weight.get()\n",
    "height = Height.get()\n",
    "gender = Gender.get()\n",
    "spo2 = SPO2.get()\n",
    "hr = HR.get()\n"
   ]
  },
  {
   "cell_type": "code",
   "execution_count": null,
   "metadata": {},
   "outputs": [],
   "source": [
    "BMI = weight / (height ** 2)"
   ]
  },
  {
   "cell_type": "code",
   "execution_count": 5,
   "metadata": {},
   "outputs": [],
   "source": [
    "db.reference(\"/\").update({\"language\": \"python\"})\n",
    "\n",
    "# update operation (add new key value)\n",
    "db.reference(\"/\").update({\"subscribed\": True})"
   ]
  },
  {
   "cell_type": "code",
   "execution_count": 6,
   "metadata": {},
   "outputs": [],
   "source": [
    "db.reference(\"/Data/OSA\").set(14)"
   ]
  },
  {
   "cell_type": "code",
   "execution_count": 9,
   "metadata": {},
   "outputs": [
    {
     "name": "stdout",
     "output_type": "stream",
     "text": [
      "\"male\"\n"
     ]
    }
   ],
   "source": [
    "print(gender)"
   ]
  },
  {
   "cell_type": "code",
   "execution_count": null,
   "metadata": {},
   "outputs": [],
   "source": []
  }
 ],
 "metadata": {
  "kernelspec": {
   "display_name": "Python 3 (ipykernel)",
   "language": "python",
   "name": "python3"
  },
  "language_info": {
   "codemirror_mode": {
    "name": "ipython",
    "version": 3
   },
   "file_extension": ".py",
   "mimetype": "text/x-python",
   "name": "python",
   "nbconvert_exporter": "python",
   "pygments_lexer": "ipython3",
   "version": "3.11.6"
  }
 },
 "nbformat": 4,
 "nbformat_minor": 5
}
